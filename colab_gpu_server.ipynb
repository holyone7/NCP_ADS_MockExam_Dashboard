{
  "cells": [
    {
      "cell_type": "markdown",
      "metadata": {},
      "source": [
        "# \ud83d\ude80 Colab GPU Server for NCP-ADS (Flask + ngrok)\n",
        "This notebook launches a simple **GPU-backed REST API** that Streamlit Cloud can call.\n",
        "1. Install deps\n",
        "2. Start Flask on port 5000\n",
        "3. Expose via ngrok \u2192 copy the public URL into Streamlit sidebar\n"
      ]
    },
    {
      "cell_type": "code",
      "execution_count": null,
      "metadata": {},
      "outputs": [],
      "source": [
        "!pip install -q flask flask-cors pyngrok cupy-cuda12x\n",
        "try:\n",
        "    import cudf, cuml  # If RAPIDS wheels are available in your runtime\n",
        "except Exception:\n",
        "    print('RAPIDS not preinstalled \u2014 proceeding with CuPy-only demo endpoints.')\n"
      ]
    },
    {
      "cell_type": "code",
      "execution_count": null,
      "metadata": {},
      "outputs": [],
      "source": [
        "from flask import Flask, request, jsonify\n",
        "from flask_cors import CORS\n",
        "import cupy as cp\n",
        "app = Flask(__name__)\n",
        "CORS(app)\n",
        "\n",
        "@app.route('/gpu_task', methods=['POST'])\n",
        "def gpu_task():\n",
        "    data = request.json or {}\n",
        "    arr = cp.array(data.get('values', [1,2,3]))\n",
        "    result = float(cp.mean(arr))\n",
        "    return jsonify({'gpu_mean': result})\n",
        "\n",
        "@app.route('/')\n",
        "def root():\n",
        "    return jsonify({'ok': True, 'endpoints': ['/gpu_task']})\n"
      ]
    },
    {
      "cell_type": "code",
      "execution_count": null,
      "metadata": {},
      "outputs": [],
      "source": [
        "from pyngrok import ngrok\n",
        "public_url = ngrok.connect(5000).public_url\n",
        "print('\ud83c\udf10 Public API endpoint:', public_url)\n",
        "app.run(host='0.0.0.0', port=5000)\n"
      ]
    }
  ],
  "metadata": {
    "kernelspec": {
      "display_name": "Python 3",
      "language": "python",
      "name": "python3"
    }
  },
  "nbformat": 4,
  "nbformat_minor": 5
}